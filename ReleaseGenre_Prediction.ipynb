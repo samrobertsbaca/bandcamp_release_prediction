{
 "cells": [
  {
   "cell_type": "code",
   "execution_count": 1,
   "metadata": {},
   "outputs": [],
   "source": [
    "# COMP4448\n",
    "# Data Science Tools 2\n",
    "# Final Project\n",
    "# Sam Roberts-Baca & Thomas Tellner\n",
    "# Fall Quarter 2021\n",
    "\n",
    "import pandas as pd\n",
    "\n",
    "from sklearn.model_selection import cross_val_score, GridSearchCV\n",
    "from sklearn.pipeline import Pipeline\n",
    "\n",
    "import nltk\n"
   ]
  },
  {
   "cell_type": "markdown",
   "metadata": {},
   "source": [
    "## Research Questions:\n",
    "1)\tHow well doea Naive Bayes algorithm predict music release genre from its lyrical content?\n",
    "\n",
    "2)\tHow well does a KNN-Classifier Algorithm predict music release genre from its lyrical content?\n",
    "\n",
    "3)\tHow do the Naïve Bayes and KNN-Classifier algorithms compare to one another in terms of predicting music release genres from lyrics?"
   ]
  },
  {
   "cell_type": "code",
   "execution_count": 2,
   "metadata": {},
   "outputs": [
    {
     "data": {
      "text/html": [
       "<div>\n",
       "<style scoped>\n",
       "    .dataframe tbody tr th:only-of-type {\n",
       "        vertical-align: middle;\n",
       "    }\n",
       "\n",
       "    .dataframe tbody tr th {\n",
       "        vertical-align: top;\n",
       "    }\n",
       "\n",
       "    .dataframe thead th {\n",
       "        text-align: right;\n",
       "    }\n",
       "</style>\n",
       "<table border=\"1\" class=\"dataframe\">\n",
       "  <thead>\n",
       "    <tr style=\"text-align: right;\">\n",
       "      <th></th>\n",
       "      <th>Unnamed: 0</th>\n",
       "      <th>Release Genre</th>\n",
       "      <th>Release Sub-Genre</th>\n",
       "      <th>Search Format</th>\n",
       "      <th>Search Week</th>\n",
       "      <th>Search Category</th>\n",
       "      <th>Release URL</th>\n",
       "      <th>Scrape Date</th>\n",
       "      <th>Release Title</th>\n",
       "      <th>Artist Name</th>\n",
       "      <th>Artist Location</th>\n",
       "      <th>Release Date</th>\n",
       "      <th>Tags</th>\n",
       "      <th>Track Info</th>\n",
       "      <th>All Lyrics</th>\n",
       "      <th>Number of Tracks</th>\n",
       "    </tr>\n",
       "  </thead>\n",
       "  <tbody>\n",
       "    <tr>\n",
       "      <th>0</th>\n",
       "      <td>0</td>\n",
       "      <td>all</td>\n",
       "      <td>all</td>\n",
       "      <td>all</td>\n",
       "      <td>this week</td>\n",
       "      <td>top</td>\n",
       "      <td>https://parquetcourts.bandcamp.com/album/sympa...</td>\n",
       "      <td>2021-08-19</td>\n",
       "      <td>Sympathy for Life</td>\n",
       "      <td>Parquet Courts</td>\n",
       "      <td>Brooklyn, New York</td>\n",
       "      <td>2021-10-22</td>\n",
       "      <td>['alternative', 'indie rock', 'New York']</td>\n",
       "      <td>[{'Track Title': 'Walking at a Downtown Pace',...</td>\n",
       "      <td>NaN</td>\n",
       "      <td>11</td>\n",
       "    </tr>\n",
       "    <tr>\n",
       "      <th>1</th>\n",
       "      <td>1</td>\n",
       "      <td>all</td>\n",
       "      <td>all</td>\n",
       "      <td>all</td>\n",
       "      <td>this week</td>\n",
       "      <td>top</td>\n",
       "      <td>https://portrayalofguilt.bandcamp.com/album/po...</td>\n",
       "      <td>2021-08-19</td>\n",
       "      <td>portrayal of guilt / Chat Pile Split</td>\n",
       "      <td>portrayal of guilt</td>\n",
       "      <td>Austin, Texas</td>\n",
       "      <td>2021-08-17</td>\n",
       "      <td>['punk', 'black metal', 'hardcore', 'metal', '...</td>\n",
       "      <td>[{'Track Title': 'Touched by an Angel', 'Track...</td>\n",
       "      <td>\\nMy mind, tortured and depraved.\\nDissolving....</td>\n",
       "      <td>2</td>\n",
       "    </tr>\n",
       "    <tr>\n",
       "      <th>2</th>\n",
       "      <td>2</td>\n",
       "      <td>all</td>\n",
       "      <td>all</td>\n",
       "      <td>all</td>\n",
       "      <td>this week</td>\n",
       "      <td>top</td>\n",
       "      <td>https://johncarpentermusic.bandcamp.com/album/...</td>\n",
       "      <td>2021-08-19</td>\n",
       "      <td>Halloween Kills OST</td>\n",
       "      <td>John Carpenter</td>\n",
       "      <td>Los Angeles, California</td>\n",
       "      <td>2021-10-15</td>\n",
       "      <td>['alternative', 'electronic', 'new age', 'prog...</td>\n",
       "      <td>[{'Track Title': 'Logos Kill', 'Track Lyrics':...</td>\n",
       "      <td>NaN</td>\n",
       "      <td>20</td>\n",
       "    </tr>\n",
       "    <tr>\n",
       "      <th>3</th>\n",
       "      <td>3</td>\n",
       "      <td>all</td>\n",
       "      <td>all</td>\n",
       "      <td>all</td>\n",
       "      <td>this week</td>\n",
       "      <td>top</td>\n",
       "      <td>https://tossportal.bandcamp.com/album/still-sl...</td>\n",
       "      <td>2021-08-19</td>\n",
       "      <td>still slipping vol. 1</td>\n",
       "      <td>Joy Orbison</td>\n",
       "      <td>London, UK</td>\n",
       "      <td>2021-08-13</td>\n",
       "      <td>['electronic', 'London']</td>\n",
       "      <td>[{'Track Title': 'w/ dad &amp; frankie', 'Track Ly...</td>\n",
       "      <td>NaN</td>\n",
       "      <td>14</td>\n",
       "    </tr>\n",
       "    <tr>\n",
       "      <th>4</th>\n",
       "      <td>4</td>\n",
       "      <td>all</td>\n",
       "      <td>all</td>\n",
       "      <td>all</td>\n",
       "      <td>this week</td>\n",
       "      <td>top</td>\n",
       "      <td>https://grouchnz.bandcamp.com/album/rare-speci...</td>\n",
       "      <td>2021-08-19</td>\n",
       "      <td>Rare Specimens</td>\n",
       "      <td>Grouch / Grouch In Dub</td>\n",
       "      <td>New Zealand</td>\n",
       "      <td>2021-08-16</td>\n",
       "      <td>['dub', 'electronic', 'grouch', 'psychedelic',...</td>\n",
       "      <td>[{'Track Title': 'Right Lymph Node', 'Track Ly...</td>\n",
       "      <td>NaN</td>\n",
       "      <td>8</td>\n",
       "    </tr>\n",
       "  </tbody>\n",
       "</table>\n",
       "</div>"
      ],
      "text/plain": [
       "   Unnamed: 0 Release Genre Release Sub-Genre Search Format Search Week  \\\n",
       "0           0           all               all           all   this week   \n",
       "1           1           all               all           all   this week   \n",
       "2           2           all               all           all   this week   \n",
       "3           3           all               all           all   this week   \n",
       "4           4           all               all           all   this week   \n",
       "\n",
       "  Search Category                                        Release URL  \\\n",
       "0             top  https://parquetcourts.bandcamp.com/album/sympa...   \n",
       "1             top  https://portrayalofguilt.bandcamp.com/album/po...   \n",
       "2             top  https://johncarpentermusic.bandcamp.com/album/...   \n",
       "3             top  https://tossportal.bandcamp.com/album/still-sl...   \n",
       "4             top  https://grouchnz.bandcamp.com/album/rare-speci...   \n",
       "\n",
       "  Scrape Date                         Release Title             Artist Name  \\\n",
       "0  2021-08-19                     Sympathy for Life          Parquet Courts   \n",
       "1  2021-08-19  portrayal of guilt / Chat Pile Split      portrayal of guilt   \n",
       "2  2021-08-19                   Halloween Kills OST          John Carpenter   \n",
       "3  2021-08-19                 still slipping vol. 1             Joy Orbison   \n",
       "4  2021-08-19                        Rare Specimens  Grouch / Grouch In Dub   \n",
       "\n",
       "           Artist Location Release Date  \\\n",
       "0       Brooklyn, New York   2021-10-22   \n",
       "1            Austin, Texas   2021-08-17   \n",
       "2  Los Angeles, California   2021-10-15   \n",
       "3               London, UK   2021-08-13   \n",
       "4              New Zealand   2021-08-16   \n",
       "\n",
       "                                                Tags  \\\n",
       "0          ['alternative', 'indie rock', 'New York']   \n",
       "1  ['punk', 'black metal', 'hardcore', 'metal', '...   \n",
       "2  ['alternative', 'electronic', 'new age', 'prog...   \n",
       "3                           ['electronic', 'London']   \n",
       "4  ['dub', 'electronic', 'grouch', 'psychedelic',...   \n",
       "\n",
       "                                          Track Info  \\\n",
       "0  [{'Track Title': 'Walking at a Downtown Pace',...   \n",
       "1  [{'Track Title': 'Touched by an Angel', 'Track...   \n",
       "2  [{'Track Title': 'Logos Kill', 'Track Lyrics':...   \n",
       "3  [{'Track Title': 'w/ dad & frankie', 'Track Ly...   \n",
       "4  [{'Track Title': 'Right Lymph Node', 'Track Ly...   \n",
       "\n",
       "                                          All Lyrics  Number of Tracks  \n",
       "0                                                NaN                11  \n",
       "1  \\nMy mind, tortured and depraved.\\nDissolving....                 2  \n",
       "2                                                NaN                20  \n",
       "3                                                NaN                14  \n",
       "4                                                NaN                 8  "
      ]
     },
     "execution_count": 2,
     "metadata": {},
     "output_type": "execute_result"
    }
   ],
   "source": [
    "# read in data\n",
    "bandcamp_df = pd.read_csv('./scrape_data_Aug-20-2021_013514.csv',encoding='utf-8')\n",
    "bandcamp_df.head()"
   ]
  },
  {
   "cell_type": "markdown",
   "metadata": {},
   "source": [
    "# Part 1: Data Processing"
   ]
  },
  {
   "cell_type": "code",
   "execution_count": 3,
   "metadata": {},
   "outputs": [
    {
     "data": {
      "text/html": [
       "<div>\n",
       "<style scoped>\n",
       "    .dataframe tbody tr th:only-of-type {\n",
       "        vertical-align: middle;\n",
       "    }\n",
       "\n",
       "    .dataframe tbody tr th {\n",
       "        vertical-align: top;\n",
       "    }\n",
       "\n",
       "    .dataframe thead th {\n",
       "        text-align: right;\n",
       "    }\n",
       "</style>\n",
       "<table border=\"1\" class=\"dataframe\">\n",
       "  <thead>\n",
       "    <tr style=\"text-align: right;\">\n",
       "      <th></th>\n",
       "      <th>Release Genre</th>\n",
       "      <th>All Lyrics</th>\n",
       "    </tr>\n",
       "  </thead>\n",
       "  <tbody>\n",
       "    <tr>\n",
       "      <th>595</th>\n",
       "      <td>rock</td>\n",
       "      <td>\\nOld man, staring outwards, fills his thought...</td>\n",
       "    </tr>\n",
       "    <tr>\n",
       "      <th>600</th>\n",
       "      <td>rock</td>\n",
       "      <td>\\nSee then\\nAll the mess\\nWe are them\\nIncludi...</td>\n",
       "    </tr>\n",
       "    <tr>\n",
       "      <th>606</th>\n",
       "      <td>rock</td>\n",
       "      <td>\\nBlack clouds in the sky\\nI think I see anoth...</td>\n",
       "    </tr>\n",
       "    <tr>\n",
       "      <th>610</th>\n",
       "      <td>rock</td>\n",
       "      <td>\\nI turn my head from the stars\\nTo find I’m b...</td>\n",
       "    </tr>\n",
       "    <tr>\n",
       "      <th>614</th>\n",
       "      <td>rock</td>\n",
       "      <td>\\n만약 이 세상이 전부 누군가의 또다른 꿈이었다면\\n언젠가 깨어나게 될때 나는 지...</td>\n",
       "    </tr>\n",
       "  </tbody>\n",
       "</table>\n",
       "</div>"
      ],
      "text/plain": [
       "    Release Genre                                         All Lyrics\n",
       "595          rock  \\nOld man, staring outwards, fills his thought...\n",
       "600          rock  \\nSee then\\nAll the mess\\nWe are them\\nIncludi...\n",
       "606          rock  \\nBlack clouds in the sky\\nI think I see anoth...\n",
       "610          rock  \\nI turn my head from the stars\\nTo find I’m b...\n",
       "614          rock  \\n만약 이 세상이 전부 누군가의 또다른 꿈이었다면\\n언젠가 깨어나게 될때 나는 지..."
      ]
     },
     "execution_count": 3,
     "metadata": {},
     "output_type": "execute_result"
    }
   ],
   "source": [
    "# only use release genre, search category, lyrics columns\n",
    "bandcamp_df = bandcamp_df[['Release Genre','Release Sub-Genre','Search Category','All Lyrics']]\n",
    "\n",
    "# remove albums with 'All' genre selected\n",
    "bandcamp_df = bandcamp_df.loc[bandcamp_df['Release Genre'] != 'all']\n",
    "\n",
    "# remove NaN rows\n",
    "bandcamp_df = bandcamp_df.dropna(subset=['All Lyrics'])\n",
    "bandcamp_df.head()\n",
    "\n",
    "# separate into top bandcamp albums, and new bandcamp albums\n",
    "#top_bandcamp_df = bandcamp_df.loc[bandcamp_df['Search Category'] == 'top']\n",
    "#new_bandcamp_df = bandcamp_df.loc[bandcamp_df['Search Category'] == 'new']\n",
    "\n",
    "# drop sub-genre, search category columns\n",
    "bandcamp_df = bandcamp_df.drop(['Release Sub-Genre','Search Category'], axis=1)\n",
    "bandcamp_df.head()"
   ]
  },
  {
   "cell_type": "code",
   "execution_count": 4,
   "metadata": {},
   "outputs": [],
   "source": [
    "# Drop rows in languages other than English\n",
    "bandcamp_df = bandcamp_df.drop(index=[614,814,984,992,1016,1111,1259,1321,1394,1435,1563,1619,1651,\n",
    "                               1679,1883,1935,1953,1979,2037,2166,2271,2458,2540,2566,2634,\n",
    "                               2662,2699,2748,2754,2777,2787,2808,2814,2821,2825,2829,\n",
    "                               2837,2855,2865,2876,2933,2960,2985,3006,3036,3047,\n",
    "                               3050,3074,3085,3086,3097,3107,3121,3138,3174,3176,3194,3217,\n",
    "                               3259,3273,3315,3377,3415,3461,3524,3532,3539,3596,\n",
    "                               3610,3649,4085,4179,4610,4820,5091,5209,5258,5406,5377], axis=0)"
   ]
  },
  {
   "cell_type": "code",
   "execution_count": 5,
   "metadata": {},
   "outputs": [
    {
     "data": {
      "text/plain": [
       "986"
      ]
     },
     "execution_count": 5,
     "metadata": {},
     "output_type": "execute_result"
    }
   ],
   "source": [
    "# length of resulting bandcamp dataframe\n",
    "len(bandcamp_df)"
   ]
  },
  {
   "cell_type": "code",
   "execution_count": 6,
   "metadata": {},
   "outputs": [
    {
     "data": {
      "image/png": "[encoded data removed]",
      "text/plain": [
       "<Figure size 864x576 with 1 Axes>"
      ]
     },
     "metadata": {
      "needs_background": "light"
     },
     "output_type": "display_data"
    }
   ],
   "source": [
    "import seaborn as sns\n",
    "import matplotlib.pyplot as plt\n",
    "\n",
    "plt.rcParams['font.size'] = '10'\n",
    "\n",
    "fig, ax = plt.subplots(figsize=(12,8))\n",
    "#sns.set_theme(style=\"darkgrid\")\n",
    "#titanic = sns.load_dataset(\"titanic\")\n",
    "sns.countplot(x=\"Release Genre\", data=bandcamp_df, \n",
    "              order = bandcamp_df['Release Genre'].value_counts().index, ax=ax)\n",
    "plt.grid()\n",
    "plt.title('Number of Releases Present for Naive Bayes/KNN Classifier Analysis')\n",
    "plt.show()"
   ]
  },
  {
   "cell_type": "code",
   "execution_count": 7,
   "metadata": {},
   "outputs": [
    {
     "data": {
      "image/png": "[encoded data removed]",
      "text/plain": [
       "<Figure size 864x576 with 1 Axes>"
      ]
     },
     "metadata": {
      "needs_background": "light"
     },
     "output_type": "display_data"
    }
   ],
   "source": [
    "bandcamp_df_totals = bandcamp_df.copy()\n",
    "bandcamp_df_totals['totalwords'] = bandcamp_df_totals['All Lyrics'].str.split().str.len()\n",
    "bandcamp_df_totals.head()\n",
    "\n",
    "# bar chart for month versus count\n",
    "fig, ax = plt.subplots(figsize=(12,8)) \n",
    "sns.barplot(x='Release Genre', y='totalwords', data=bandcamp_df_totals,\n",
    "            order = bandcamp_df_totals['Release Genre'].value_counts().index, ax=ax)\n",
    "plt.grid() \n",
    "plt.title('Average Number of Words per Release vs Release Genre')\n",
    "plt.show()\n"
   ]
  },
  {
   "cell_type": "code",
   "execution_count": 8,
   "metadata": {},
   "outputs": [
    {
     "name": "stderr",
     "output_type": "stream",
     "text": [
      "[nltk_data] Downloading package stopwords to\n",
      "[nltk_data]     C:\\Users\\Sam\\AppData\\Roaming\\nltk_data...\n",
      "[nltk_data]   Package stopwords is already up-to-date!\n"
     ]
    }
   ],
   "source": [
    "# Cleaning lyrics\n",
    "\n",
    "import re\n",
    "import string\n",
    "import nltk\n",
    "from nltk.corpus import stopwords\n",
    "nltk.download('stopwords')\n",
    "\n",
    "sw = set(stopwords.words(\"english\"))\n",
    "\n",
    "def clean(text, stopwords=sw):\n",
    "    # remove tags like <tab>\n",
    "    text = re.sub(r'<[^<>]*>', ' ', text)\n",
    "    # split text on whitespace\n",
    "    text_list = text.split()\n",
    "    text_words = []\n",
    "\n",
    "    punctuation = set(string.punctuation)\n",
    "\n",
    "    # keep #tags and @mentions\n",
    "    ## punctuation.remove(\"#\")\n",
    "    ## punctuation.remove(\"@\")\n",
    "\n",
    "    for word in text_list:\n",
    "         # remove punctuation marks at the beginning\n",
    "         # of each word\n",
    "        while len(word) > 0 and word[0] in punctuation:\n",
    "            word = word[1:]\n",
    "\n",
    "        # remove punctuation marks at the end of each word\n",
    "        while len(word) > 0 and word[-1] in punctuation:\n",
    "            word = word[:-1]\n",
    "\n",
    "        # a rule to eliminate most urls\n",
    "        if len(word) > 0 and \"/\" not in word:\n",
    "            # eliminate stopwords\n",
    "            if word.lower() not in stopwords:\n",
    "                # append the word to the text_words list\n",
    "                text_words.append(word.lower())\n",
    "        cleaner_text = \" \".join(text_words)\n",
    "    return cleaner_text\n",
    "\n",
    "def remove_hashtags_mentions_urls(text):\n",
    "    clean_text = re.sub(\"@[A-Za-z0-9_]+\",'', text)\n",
    "    clean_text = re.sub(\"#[A-Za-z0-9_]+\",'', clean_text)\n",
    "    clean_text = re.sub(r'^https?:\\/\\/.*[\\r\\n]*', '', clean_text)\n",
    "    return clean_text\n",
    "\n",
    "bandcamp_df['All Lyrics'] = bandcamp_df['All Lyrics'].apply(remove_hashtags_mentions_urls)\n",
    "bandcamp_df['All Lyrics'] = bandcamp_df['All Lyrics'].apply(clean)"
   ]
  },
  {
   "cell_type": "code",
   "execution_count": 9,
   "metadata": {},
   "outputs": [
    {
     "data": {
      "text/html": [
       "<div>\n",
       "<style scoped>\n",
       "    .dataframe tbody tr th:only-of-type {\n",
       "        vertical-align: middle;\n",
       "    }\n",
       "\n",
       "    .dataframe tbody tr th {\n",
       "        vertical-align: top;\n",
       "    }\n",
       "\n",
       "    .dataframe thead th {\n",
       "        text-align: right;\n",
       "    }\n",
       "</style>\n",
       "<table border=\"1\" class=\"dataframe\">\n",
       "  <thead>\n",
       "    <tr style=\"text-align: right;\">\n",
       "      <th></th>\n",
       "      <th>Release Genre</th>\n",
       "      <th>All Lyrics</th>\n",
       "    </tr>\n",
       "  </thead>\n",
       "  <tbody>\n",
       "    <tr>\n",
       "      <th>595</th>\n",
       "      <td>rock</td>\n",
       "      <td>old man staring outwards fills thoughts contem...</td>\n",
       "    </tr>\n",
       "    <tr>\n",
       "      <th>600</th>\n",
       "      <td>rock</td>\n",
       "      <td>see mess including access cold wind dark years...</td>\n",
       "    </tr>\n",
       "    <tr>\n",
       "      <th>606</th>\n",
       "      <td>rock</td>\n",
       "      <td>black clouds sky think see another storm horiz...</td>\n",
       "    </tr>\n",
       "    <tr>\n",
       "      <th>610</th>\n",
       "      <td>rock</td>\n",
       "      <td>turn head stars find i’m bound pyre feels like...</td>\n",
       "    </tr>\n",
       "    <tr>\n",
       "      <th>615</th>\n",
       "      <td>rock</td>\n",
       "      <td>beyond sent morning hunt outward sight sent mo...</td>\n",
       "    </tr>\n",
       "  </tbody>\n",
       "</table>\n",
       "</div>"
      ],
      "text/plain": [
       "    Release Genre                                         All Lyrics\n",
       "595          rock  old man staring outwards fills thoughts contem...\n",
       "600          rock  see mess including access cold wind dark years...\n",
       "606          rock  black clouds sky think see another storm horiz...\n",
       "610          rock  turn head stars find i’m bound pyre feels like...\n",
       "615          rock  beyond sent morning hunt outward sight sent mo..."
      ]
     },
     "execution_count": 9,
     "metadata": {},
     "output_type": "execute_result"
    }
   ],
   "source": [
    "bandcamp_df.head()"
   ]
  },
  {
   "cell_type": "markdown",
   "metadata": {},
   "source": [
    "# Part 2: Naive Bayes Model Fitting"
   ]
  },
  {
   "cell_type": "code",
   "execution_count": 10,
   "metadata": {},
   "outputs": [],
   "source": [
    "# Vectorize the corpus of our lyrics data\n",
    "\n",
    "from sklearn.feature_extraction.text import TfidfVectorizer\n",
    "\n",
    "corpus = bandcamp_df['All Lyrics'].values\n",
    "vectorizer = TfidfVectorizer(stop_words='english', \n",
    "                             min_df=10, \n",
    "                             max_features=None,\n",
    "                             use_idf=True)\n",
    "X = vectorizer.fit_transform(corpus)\n"
   ]
  },
  {
   "cell_type": "code",
   "execution_count": 11,
   "metadata": {},
   "outputs": [
    {
     "name": "stdout",
     "output_type": "stream",
     "text": [
      "(591,) (591,)\n",
      "(395,) (395,)\n"
     ]
    }
   ],
   "source": [
    "# Split data into train/test sets\n",
    "\n",
    "from sklearn.model_selection import train_test_split\n",
    "\n",
    "X_train, X_test, y_train, y_test = train_test_split(bandcamp_df['All Lyrics'],\n",
    "                                                    bandcamp_df['Release Genre'].values,\n",
    "                                                    test_size=0.4)\n",
    "\n",
    "print(X_train.shape, y_train.shape)\n",
    "print(X_test.shape, y_test.shape)"
   ]
  },
  {
   "cell_type": "code",
   "execution_count": 12,
   "metadata": {},
   "outputs": [],
   "source": [
    "X_train_vect = vectorizer.transform(X_train)\n",
    "X_train_vect = X_train_vect.toarray()\n",
    "\n",
    "X_test = vectorizer.transform(X_test)\n",
    "X_test = X_test.toarray()\n",
    "\n",
    "from sklearn.naive_bayes import MultinomialNB\n",
    "\n",
    "clf = MultinomialNB()\n",
    "clf = clf.fit(X_train_vect, y_train)\n",
    "\n",
    "# make prediction on training set\n",
    "#clf.predict(X_train)"
   ]
  },
  {
   "cell_type": "code",
   "execution_count": 13,
   "metadata": {},
   "outputs": [
    {
     "name": "stdout",
     "output_type": "stream",
     "text": [
      "MulinomialNB Accuracy on Training Set:\n",
      "0.5668358714043993\n",
      "MultinomialNB Accuracy on Test Set:\n",
      "0.20759493670886076\n"
     ]
    }
   ],
   "source": [
    "# compute accuracy on training set\n",
    "print('MulinomialNB Accuracy on Training Set:')\n",
    "print(clf.score(X_train_vect, y_train))\n",
    "\n",
    "# compute accuracy on test set\n",
    "print('MultinomialNB Accuracy on Test Set:')\n",
    "print(clf.score(X_test, y_test))"
   ]
  },
  {
   "cell_type": "code",
   "execution_count": 14,
   "metadata": {},
   "outputs": [
    {
     "name": "stdout",
     "output_type": "stream",
     "text": [
      "Average cross validation score:  0.19628258082894176\n",
      "Standard deviation of cross validation scores:  0.006462047310003042\n"
     ]
    }
   ],
   "source": [
    "scores = cross_val_score(estimator=MultinomialNB(), X=X_train_vect, y=y_train, cv=5)\n",
    "print(\"Average cross validation score: \", scores.mean())\n",
    "print(\"Standard deviation of cross validation scores: \", scores.std())"
   ]
  },
  {
   "cell_type": "markdown",
   "metadata": {},
   "source": [
    "The Naive Bayes model to try and predict all genres given our lyrical corpus is not very accurate overall, given our cross-validated score of .19. There appears to be a good amount of overfitting occurring. Let's test our model with fewer variables."
   ]
  },
  {
   "cell_type": "code",
   "execution_count": 15,
   "metadata": {},
   "outputs": [
    {
     "data": {
      "text/html": [
       "<div>\n",
       "<style scoped>\n",
       "    .dataframe tbody tr th:only-of-type {\n",
       "        vertical-align: middle;\n",
       "    }\n",
       "\n",
       "    .dataframe tbody tr th {\n",
       "        vertical-align: top;\n",
       "    }\n",
       "\n",
       "    .dataframe thead th {\n",
       "        text-align: right;\n",
       "    }\n",
       "</style>\n",
       "<table border=\"1\" class=\"dataframe\">\n",
       "  <thead>\n",
       "    <tr style=\"text-align: right;\">\n",
       "      <th></th>\n",
       "      <th>Release Genre</th>\n",
       "      <th>All Lyrics</th>\n",
       "    </tr>\n",
       "  </thead>\n",
       "  <tbody>\n",
       "    <tr>\n",
       "      <th>1595</th>\n",
       "      <td>hip-hop-rap</td>\n",
       "      <td>west coast homeboy sandman shelter heat seek m...</td>\n",
       "    </tr>\n",
       "    <tr>\n",
       "      <th>1598</th>\n",
       "      <td>hip-hop-rap</td>\n",
       "      <td>fost casa la un dilar care sa pishat pa mine n...</td>\n",
       "    </tr>\n",
       "    <tr>\n",
       "      <th>1607</th>\n",
       "      <td>hip-hop-rap</td>\n",
       "      <td>got new flavor coffee got old flavor rap equip...</td>\n",
       "    </tr>\n",
       "    <tr>\n",
       "      <th>1611</th>\n",
       "      <td>hip-hop-rap</td>\n",
       "      <td>song response racism prejudice marginalized gr...</td>\n",
       "    </tr>\n",
       "    <tr>\n",
       "      <th>1613</th>\n",
       "      <td>hip-hop-rap</td>\n",
       "      <td>yea know march 2nd cursed never felt body hurt...</td>\n",
       "    </tr>\n",
       "  </tbody>\n",
       "</table>\n",
       "</div>"
      ],
      "text/plain": [
       "     Release Genre                                         All Lyrics\n",
       "1595   hip-hop-rap  west coast homeboy sandman shelter heat seek m...\n",
       "1598   hip-hop-rap  fost casa la un dilar care sa pishat pa mine n...\n",
       "1607   hip-hop-rap  got new flavor coffee got old flavor rap equip...\n",
       "1611   hip-hop-rap  song response racism prejudice marginalized gr...\n",
       "1613   hip-hop-rap  yea know march 2nd cursed never felt body hurt..."
      ]
     },
     "execution_count": 15,
     "metadata": {},
     "output_type": "execute_result"
    }
   ],
   "source": [
    "# Making Naive Bayes Model for predicting only country/hip-hop-rap songs\n",
    "\n",
    "bandcamp_df_reduced = bandcamp_df.loc[bandcamp_df['Release Genre'].isin(['country','hip-hop-rap'])]\n",
    "bandcamp_df_reduced.head()"
   ]
  },
  {
   "cell_type": "code",
   "execution_count": 16,
   "metadata": {},
   "outputs": [
    {
     "name": "stdout",
     "output_type": "stream",
     "text": [
      "(91,) (91,)\n",
      "(61,) (61,)\n",
      "MulinomialNB Accuracy on Training Set:\n",
      "0.8681318681318682\n",
      "MultinomialNB Accuracy on Test Set:\n",
      "0.6721311475409836\n",
      "Average cross validation score:  0.736842105263158\n",
      "Standard deviation of cross validation scores:  0.05044177462654463\n"
     ]
    }
   ],
   "source": [
    "corpus = bandcamp_df_reduced['All Lyrics'].values\n",
    "vectorizer = TfidfVectorizer(stop_words='english', \n",
    "                             min_df=10, \n",
    "                             max_features=None,\n",
    "                             use_idf=True)\n",
    "X = vectorizer.fit_transform(corpus)\n",
    "\n",
    "X_train, X_test, y_train, y_test = train_test_split(bandcamp_df_reduced['All Lyrics'],\n",
    "                                                    bandcamp_df_reduced['Release Genre'].values,\n",
    "                                                    test_size=0.4)\n",
    "\n",
    "print(X_train.shape, y_train.shape)\n",
    "print(X_test.shape, y_test.shape)\n",
    "\n",
    "X_train_vect = vectorizer.transform(X_train)\n",
    "X_train_vect = X_train_vect.toarray()\n",
    "\n",
    "X_test = vectorizer.transform(X_test)\n",
    "X_test = X_test.toarray()\n",
    "\n",
    "clf = MultinomialNB()\n",
    "clf = clf.fit(X_train_vect, y_train)\n",
    "\n",
    "# compute accuracy on training set\n",
    "print('MulinomialNB Accuracy on Training Set:')\n",
    "print(clf.score(X_train_vect, y_train))\n",
    "\n",
    "# compute accuracy on test set\n",
    "print('MultinomialNB Accuracy on Test Set:')\n",
    "print(clf.score(X_test, y_test))\n",
    "\n",
    "scores = cross_val_score(estimator=MultinomialNB(), X=X_train_vect, y=y_train, cv=5)\n",
    "print(\"Average cross validation score: \", scores.mean())\n",
    "print(\"Standard deviation of cross validation scores: \", scores.std())"
   ]
  },
  {
   "cell_type": "markdown",
   "metadata": {},
   "source": [
    "The Naive Bayes model appears to be much better for predicting two genres, for example country vs. hip-hop/rap, with a cross-validation score of .78. There still appears to be some overfitting occurring however. Let's see if we can make our model more accurate using hyperparameter tuning."
   ]
  },
  {
   "cell_type": "code",
   "execution_count": 17,
   "metadata": {},
   "outputs": [
    {
     "data": {
      "text/plain": [
       "GridSearchCV(cv=5,\n",
       "             estimator=Pipeline(steps=[('vectorizer',\n",
       "                                        TfidfVectorizer(stop_words='english')),\n",
       "                                       ('nb', MultinomialNB())]),\n",
       "             param_grid=[{'vectorizer__min_df': range(5, 20),\n",
       "                          'vectorizer__ngram_range': [(1, 1), (1, 2), (1, 3),\n",
       "                                                      (1, 5), (1, 7)]}])"
      ]
     },
     "execution_count": 17,
     "metadata": {},
     "output_type": "execute_result"
    }
   ],
   "source": [
    "# Naive Bayes Model Fine-Tuning\n",
    "\n",
    "pipe = Pipeline([('vectorizer',TfidfVectorizer(stop_words='english',\n",
    "                                             use_idf=True)),\n",
    "                ('nb',MultinomialNB())])\n",
    "\n",
    "param_grid = [{'vectorizer__ngram_range':[(1,1),(1,2),(1,3),(1,5),(1,7)],\n",
    "               'vectorizer__min_df':range(5,20)}]\n",
    "\n",
    "grid = GridSearchCV(estimator=pipe, param_grid=param_grid, cv=5)\n",
    "\n",
    "grid.fit(X_train,y_train)"
   ]
  },
  {
   "cell_type": "code",
   "execution_count": 18,
   "metadata": {},
   "outputs": [
    {
     "data": {
      "text/plain": [
       "{'vectorizer__min_df': 16, 'vectorizer__ngram_range': (1, 1)}"
      ]
     },
     "execution_count": 18,
     "metadata": {},
     "output_type": "execute_result"
    }
   ],
   "source": [
    "grid.best_params_"
   ]
  },
  {
   "cell_type": "code",
   "execution_count": 19,
   "metadata": {},
   "outputs": [],
   "source": [
    "vectorizer = grid.best_estimator_.named_steps['vectorizer']\n",
    "nb = grid.best_estimator_.named_steps['nb']\n",
    "vectorizer.fit_transform(corpus)\n",
    "nb = nb.fit(X_train_vect, y_train)"
   ]
  },
  {
   "cell_type": "markdown",
   "metadata": {},
   "source": [
    "Our Naive Bayes model did not improve with hyperparameter tuning."
   ]
  },
  {
   "cell_type": "markdown",
   "metadata": {},
   "source": [
    "## KNN Text Classification"
   ]
  },
  {
   "cell_type": "code",
   "execution_count": 20,
   "metadata": {},
   "outputs": [],
   "source": [
    "import numpy\n",
    "from sklearn.neighbors import KNeighborsClassifier"
   ]
  },
  {
   "cell_type": "code",
   "execution_count": 21,
   "metadata": {},
   "outputs": [
    {
     "name": "stdout",
     "output_type": "stream",
     "text": [
      "KNN Accuracy on Training Set:\n",
      "0.8791208791208791\n",
      "KNN Accuracy on Test Set:\n",
      "0.7704918032786885\n",
      "Average cross validation score:  0.8146198830409357\n",
      "Standard deviation of cross validation scores:  0.11010004746019401\n"
     ]
    }
   ],
   "source": [
    "# Instantiate the KNN Classifier\n",
    "\n",
    "knn_nlp = KNeighborsClassifier()\n",
    "knn_nlp.fit(X_train_vect, y_train)\n",
    "\n",
    "# compute accuracy on training set\n",
    "print('KNN Accuracy on Training Set:')\n",
    "print(knn_nlp.score(X_train_vect, y_train))\n",
    "\n",
    "# compute accuracy on test set\n",
    "print('KNN Accuracy on Test Set:')\n",
    "print(knn_nlp.score(X_test, y_test))\n",
    "\n",
    "scores = cross_val_score(estimator=KNeighborsClassifier(), X=X_train_vect, y=y_train, cv=5)\n",
    "print(\"Average cross validation score: \", scores.mean())\n",
    "print(\"Standard deviation of cross validation scores: \", scores.std())"
   ]
  },
  {
   "cell_type": "markdown",
   "metadata": {},
   "source": [
    "The KNN method appears to be more accurate that Naive Bayes at first glance. However, there seems to be some overfitting based on a quick comparison of the accuracy scores."
   ]
  },
  {
   "cell_type": "code",
   "execution_count": 22,
   "metadata": {
    "scrolled": false
   },
   "outputs": [
    {
     "data": {
      "text/plain": [
       "GridSearchCV(cv=8,\n",
       "             estimator=Pipeline(steps=[('vectorizer',\n",
       "                                        TfidfVectorizer(stop_words='english')),\n",
       "                                       ('knn', KNeighborsClassifier())]),\n",
       "             param_grid=[{'knn__n_neighbors': [3, 5, 10],\n",
       "                          'vectorizer__min_df': range(5, 20),\n",
       "                          'vectorizer__ngram_range': [(1, 1), (1, 2), (1, 3),\n",
       "                                                      (1, 5), (1, 7)]}])"
      ]
     },
     "execution_count": 22,
     "metadata": {},
     "output_type": "execute_result"
    }
   ],
   "source": [
    "# Model Fine-Tuning\n",
    "\n",
    "pipe = Pipeline([('vectorizer',TfidfVectorizer(stop_words='english',\n",
    "                                             use_idf=True)),\n",
    "                ('knn', KNeighborsClassifier())])\n",
    "\n",
    "param_grid = [{'vectorizer__ngram_range':[(1,1),(1,2),(1,3),(1,5),(1,7)],\n",
    "               'vectorizer__min_df':range(5,20), 'knn__n_neighbors': [3, 5, 10]}]\n",
    "\n",
    "grid = GridSearchCV(estimator=pipe, param_grid=param_grid, cv=8)\n",
    "\n",
    "grid.fit(X_train,y_train)"
   ]
  },
  {
   "cell_type": "code",
   "execution_count": 23,
   "metadata": {},
   "outputs": [
    {
     "data": {
      "text/plain": [
       "{'knn__n_neighbors': 5,\n",
       " 'vectorizer__min_df': 5,\n",
       " 'vectorizer__ngram_range': (1, 1)}"
      ]
     },
     "execution_count": 23,
     "metadata": {},
     "output_type": "execute_result"
    }
   ],
   "source": [
    "grid.best_params_"
   ]
  },
  {
   "cell_type": "code",
   "execution_count": 24,
   "metadata": {},
   "outputs": [
    {
     "name": "stdout",
     "output_type": "stream",
     "text": [
      "Training Accuracy:\n",
      "0.8791208791208791\n",
      "Testing Accuracy:\n",
      "0.7704918032786885\n"
     ]
    }
   ],
   "source": [
    "vectorizer = grid.best_estimator_.named_steps['vectorizer']\n",
    "knn = grid.best_estimator_.named_steps['knn']\n",
    "vectorizer.fit_transform(corpus)\n",
    "knn = knn.fit(X_train_vect, y_train)\n",
    "\n",
    "print('Training Accuracy:')\n",
    "print(knn.score(X_train_vect,y_train))\n",
    "print('Testing Accuracy:')\n",
    "print(knn.score(X_test,y_test))"
   ]
  }
 ],
 "metadata": {
  "kernelspec": {
   "display_name": "Python 3",
   "language": "python",
   "name": "python3"
  },
  "language_info": {
   "codemirror_mode": {
    "name": "ipython",
    "version": 3
   },
   "file_extension": ".py",
   "mimetype": "text/x-python",
   "name": "python",
   "nbconvert_exporter": "python",
   "pygments_lexer": "ipython3",
   "version": "3.8.3"
  }
 },
 "nbformat": 4,
 "nbformat_minor": 4
}
